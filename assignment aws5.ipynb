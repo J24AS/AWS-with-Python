{
 "cells": [
  {
   "cell_type": "code",
   "execution_count": 1,
   "id": "e609418f",
   "metadata": {},
   "outputs": [
    {
     "name": "stdout",
     "output_type": "stream",
     "text": [
      "Concatenated string: Hello World\n"
     ]
    }
   ],
   "source": [
    "str1 = \"Hello\"\n",
    "str2 = \"World\"\n",
    "concatenated_string = str1 + \" \" + str2\n",
    "print(\"Concatenated string:\", concatenated_string)"
   ]
  },
  {
   "cell_type": "code",
   "execution_count": 2,
   "id": "367a988b",
   "metadata": {},
   "outputs": [
    {
     "name": "stdout",
     "output_type": "stream",
     "text": [
      "Formatted string (using % operator): Name: hastha, Age: 19\n"
     ]
    }
   ],
   "source": [
    "# Using the % operator\n",
    "name = \"hastha\"\n",
    "age = 19\n",
    "formatted_string = \"Name: %s, Age: %d\" % (name, age)\n",
    "print(\"Formatted string (using % operator):\", formatted_string)"
   ]
  },
  {
   "cell_type": "code",
   "execution_count": 3,
   "id": "c36c5b9e",
   "metadata": {},
   "outputs": [
    {
     "name": "stdout",
     "output_type": "stream",
     "text": [
      "Formatted string (using format() method): Name: hastha, Age: 19\n",
      "Formatted string (using f-strings): Name: hastha, Age: 19\n",
      "Formatted string (using template strings): Name: hastha, Age: 19\n"
     ]
    }
   ],
   "source": [
    "# Using the format() method\n",
    "formatted_string = \"Name: {}, Age: {}\".format(name, age)\n",
    "print(\"Formatted string (using format() method):\", formatted_string)\n",
    "\n",
    "# Using f-strings (formatted string literals)\n",
    "formatted_string = f\"Name: {name}, Age: {age}\"\n",
    "print(\"Formatted string (using f-strings):\", formatted_string)\n",
    "\n",
    "# Using template strings\n",
    "from string import Template\n",
    "template = Template(\"Name: $name, Age: $age\")\n",
    "formatted_string = template.substitute(name=name, age=age)\n",
    "print(\"Formatted string (using template strings):\", formatted_string)"
   ]
  },
  {
   "cell_type": "code",
   "execution_count": 4,
   "id": "406a92aa",
   "metadata": {},
   "outputs": [
    {
     "name": "stdout",
     "output_type": "stream",
     "text": [
      "Addition result: 30\n"
     ]
    }
   ],
   "source": [
    "# Addition\n",
    "result_add = 12 + 18\n",
    "print(\"Addition result:\", result_add)"
   ]
  },
  {
   "cell_type": "code",
   "execution_count": 5,
   "id": "f7603ef9",
   "metadata": {},
   "outputs": [
    {
     "name": "stdout",
     "output_type": "stream",
     "text": [
      "Subtraction result: 6\n",
      "Multiplication result: 24\n",
      "Division result: 6.0\n",
      "Exponentiation result: 2560000\n",
      "Modulus result: 0\n",
      "After subtraction assignment: 8\n",
      "After multiplication assignment: 225\n",
      "After division assignment: 15.0\n"
     ]
    }
   ],
   "source": [
    "# Subtraction\n",
    "result_sub = 10 - 4\n",
    "print(\"Subtraction result:\", result_sub)\n",
    "\n",
    "# Multiplication\n",
    "result_mul = 12 * 2\n",
    "print(\"Multiplication result:\", result_mul)\n",
    "\n",
    "# Division\n",
    "result_div = 24 / 4\n",
    "print(\"Division result:\", result_div)\n",
    "\n",
    "# Exponentiation\n",
    "result_exp = 40 ** 4\n",
    "print(\"Exponentiation result:\", result_exp)\n",
    "\n",
    "# Modulus\n",
    "result_mod = 21 % 3\n",
    "print(\"Modulus result:\", result_mod)\n",
    "# Example for -= (Subtraction assignment)\n",
    "x = 12\n",
    "x -= 4  # Equivalent to a = a - 4\n",
    "print(\"After subtraction assignment:\", x)\n",
    "\n",
    "# Example for *= (Multiplication assignment)\n",
    "y = 45\n",
    "y *= 5  # Equivalent to b = b * 5\n",
    "print(\"After multiplication assignment:\", y)\n",
    "\n",
    "# Example for /= (Division assignment)\n",
    "z = 30\n",
    "z /= 2  # Equivalent to c = c / 2\n",
    "print(\"After division assignment:\", z)"
   ]
  },
  {
   "cell_type": "code",
   "execution_count": null,
   "id": "664829c5",
   "metadata": {},
   "outputs": [],
   "source": []
  }
 ],
 "metadata": {
  "kernelspec": {
   "display_name": "Python 3 (ipykernel)",
   "language": "python",
   "name": "python3"
  },
  "language_info": {
   "codemirror_mode": {
    "name": "ipython",
    "version": 3
   },
   "file_extension": ".py",
   "mimetype": "text/x-python",
   "name": "python",
   "nbconvert_exporter": "python",
   "pygments_lexer": "ipython3",
   "version": "3.9.13"
  }
 },
 "nbformat": 4,
 "nbformat_minor": 5
}
