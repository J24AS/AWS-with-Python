{
 "cells": [
  {
   "cell_type": "code",
   "execution_count": 2,
   "id": "4bf40a0f",
   "metadata": {},
   "outputs": [
    {
     "name": "stdout",
     "output_type": "stream",
     "text": [
      "Concatenated string: Hello good morning\n"
     ]
    }
   ],
   "source": [
    "str1 = \"Hello\"\n",
    "str2 = \"good morning\"\n",
    "concatenated_string = str1 + \" \" + str2\n",
    "print(\"Concatenated string:\", concatenated_string)"
   ]
  },
  {
   "cell_type": "code",
   "execution_count": 4,
   "id": "787fa943",
   "metadata": {},
   "outputs": [
    {
     "name": "stdout",
     "output_type": "stream",
     "text": [
      "Formatted string: Name: hastha, Age: 19\n"
     ]
    }
   ],
   "source": [
    "name = \"hastha\"\n",
    "age = 19\n",
    "formatted_string = \"Name: %s, Age: %d\" % (name, age)\n",
    "print(\"Formatted string:\", formatted_string)"
   ]
  },
  {
   "cell_type": "code",
   "execution_count": 5,
   "id": "3dcee9a2",
   "metadata": {},
   "outputs": [
    {
     "name": "stdout",
     "output_type": "stream",
     "text": [
      "Formatted string: Name: hastha, Age: 19\n"
     ]
    }
   ],
   "source": [
    "from string import Template\n",
    "template = Template(\"Name: $name, Age: $age\")\n",
    "formatted_string = template.substitute(name=name, age=age)\n",
    "print(\"Formatted string:\", formatted_string)"
   ]
  },
  {
   "cell_type": "code",
   "execution_count": 7,
   "id": "e39c9ad1",
   "metadata": {},
   "outputs": [
    {
     "name": "stdout",
     "output_type": "stream",
     "text": [
      "Formatted string: Name: hastha, Age: 19\n"
     ]
    }
   ],
   "source": [
    "formatted_string = \"Name: {}, Age: {}\".format(name, age)\n",
    "print(\"Formatted string:\", formatted_string)"
   ]
  },
  {
   "cell_type": "code",
   "execution_count": 12,
   "id": "a4a22a37",
   "metadata": {},
   "outputs": [
    {
     "name": "stdout",
     "output_type": "stream",
     "text": [
      "Addition result: 19\n"
     ]
    }
   ],
   "source": [
    "result_add = 13 + 6\n",
    "print(\"Addition result:\", result_add)"
   ]
  },
  {
   "cell_type": "code",
   "execution_count": 11,
   "id": "97c5b9d2",
   "metadata": {},
   "outputs": [
    {
     "name": "stdout",
     "output_type": "stream",
     "text": [
      "Subtraction result: 8\n"
     ]
    }
   ],
   "source": [
    "result_sub = 12 - 4\n",
    "print(\"Subtraction result:\", result_sub)"
   ]
  },
  {
   "cell_type": "code",
   "execution_count": 10,
   "id": "79fc7747",
   "metadata": {},
   "outputs": [
    {
     "name": "stdout",
     "output_type": "stream",
     "text": [
      "Multiplication result: 30\n"
     ]
    }
   ],
   "source": [
    "result_mul = 10 * 3\n",
    "print(\"Multiplication result:\", result_mul)"
   ]
  },
  {
   "cell_type": "code",
   "execution_count": 13,
   "id": "0059db9f",
   "metadata": {},
   "outputs": [
    {
     "name": "stdout",
     "output_type": "stream",
     "text": [
      "Division result: 6.0\n"
     ]
    }
   ],
   "source": [
    "result_div = 12 / 2\n",
    "print(\"Division result:\", result_div)"
   ]
  },
  {
   "cell_type": "code",
   "execution_count": 14,
   "id": "4f65597c",
   "metadata": {},
   "outputs": [
    {
     "name": "stdout",
     "output_type": "stream",
     "text": [
      "Exponentiation result: 262144\n"
     ]
    }
   ],
   "source": [
    "result_exp = 8 ** 6\n",
    "print(\"Exponentiation result:\", result_exp)"
   ]
  },
  {
   "cell_type": "code",
   "execution_count": 15,
   "id": "99917d56",
   "metadata": {},
   "outputs": [
    {
     "name": "stdout",
     "output_type": "stream",
     "text": [
      "Modulus result: 0\n"
     ]
    }
   ],
   "source": [
    "result_mod = 15 % 5\n",
    "print(\"Modulus result:\", result_mod)"
   ]
  },
  {
   "cell_type": "code",
   "execution_count": 16,
   "id": "82ce0634",
   "metadata": {},
   "outputs": [
    {
     "name": "stdout",
     "output_type": "stream",
     "text": [
      "After subtraction assignment: 32\n"
     ]
    }
   ],
   "source": [
    "x = 40\n",
    "x -= 8\n",
    "print(\"After subtraction assignment:\", x)"
   ]
  },
  {
   "cell_type": "code",
   "execution_count": 17,
   "id": "3137965e",
   "metadata": {},
   "outputs": [
    {
     "name": "stdout",
     "output_type": "stream",
     "text": [
      "After multiplication assignment: 28\n"
     ]
    }
   ],
   "source": [
    "y = 14\n",
    "y *= 2\n",
    "print(\"After multiplication assignment:\",y)"
   ]
  },
  {
   "cell_type": "code",
   "execution_count": 18,
   "id": "07d5f34d",
   "metadata": {},
   "outputs": [
    {
     "name": "stdout",
     "output_type": "stream",
     "text": [
      "After division assignment: 10.333333333333334\n"
     ]
    }
   ],
   "source": [
    "c = 124\n",
    "c /= 12\n",
    "print(\"After division assignment:\", c)"
   ]
  },
  {
   "cell_type": "code",
   "execution_count": null,
   "id": "93edad58",
   "metadata": {},
   "outputs": [],
   "source": []
  }
 ],
 "metadata": {
  "kernelspec": {
   "display_name": "Python 3 (ipykernel)",
   "language": "python",
   "name": "python3"
  },
  "language_info": {
   "codemirror_mode": {
    "name": "ipython",
    "version": 3
   },
   "file_extension": ".py",
   "mimetype": "text/x-python",
   "name": "python",
   "nbconvert_exporter": "python",
   "pygments_lexer": "ipython3",
   "version": "3.9.13"
  }
 },
 "nbformat": 4,
 "nbformat_minor": 5
}
