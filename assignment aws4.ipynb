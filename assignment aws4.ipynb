{
 "cells": [
  {
   "cell_type": "code",
   "execution_count": 1,
   "id": "383c587f",
   "metadata": {},
   "outputs": [
    {
     "name": "stdout",
     "output_type": "stream",
     "text": [
      "Upper case: RYIYA SREE\n",
      "Lower case: ryiya sree\n",
      "Capitalized: Ryiya sree\n",
      "Replaced: ryiya srEE\n"
     ]
    }
   ],
   "source": [
    "# Define a string\n",
    "name = \"ryiya sree\"\n",
    "# Convert to upper case\n",
    "upper_case = name.upper()\n",
    "print(\"Upper case:\", upper_case)\n",
    "\n",
    "# Convert to lower case\n",
    "lower_case = name.lower()\n",
    "print(\"Lower case:\", lower_case)\n",
    "\n",
    "# Capitalize the string\n",
    "capitalized = name.capitalize()\n",
    "print(\"Capitalized:\", capitalized)\n",
    "\n",
    "# Replace 'e' with 'E'\n",
    "replaced = name.replace('e', 'E')\n",
    "print(\"Replaced:\", replaced)"
   ]
  },
  {
   "cell_type": "code",
   "execution_count": 2,
   "id": "a8223a37",
   "metadata": {},
   "outputs": [
    {
     "name": "stdout",
     "output_type": "stream",
     "text": [
      "Extended list: [1, 2, 3, 5, 7]\n"
     ]
    }
   ],
   "source": [
    "# Define a list\n",
    "L = [1, 2, 3]\n",
    "\n",
    "# Extend the list\n",
    "L.extend([5, 6, 7])\n",
    "\n",
    "# Remove the 5th value\n",
    "del L[4]\n",
    "\n",
    "print(\"Extended list:\", L)"
   ]
  },
  {
   "cell_type": "code",
   "execution_count": 3,
   "id": "1b73b37e",
   "metadata": {},
   "outputs": [
    {
     "name": "stdout",
     "output_type": "stream",
     "text": [
      "Updated dictionary: {'mango': 15, 'apple': 15, 'pineapple': 15}\n"
     ]
    }
   ],
   "source": [
    "# Define a dictionary\n",
    "d = {'mango': 10, 'banana': 0, 'apple': 15, 'orange': 0, 'pineapple': 20}\n",
    "\n",
    "# Remove out of stock fruits (value == 0)\n",
    "out_of_stock = [key for key, value in d.items() if value == 0]\n",
    "for fruit in out_of_stock:\n",
    "    del d[fruit]\n",
    "\n",
    "# Update mango quantity to 15 and decrease pineapple by 5\n",
    "d['mango'] = 15\n",
    "d['pineapple'] -= 5\n",
    "\n",
    "print(\"Updated dictionary:\", d)"
   ]
  },
  {
   "cell_type": "code",
   "execution_count": 4,
   "id": "63355def",
   "metadata": {},
   "outputs": [
    {
     "name": "stdout",
     "output_type": "stream",
     "text": [
      "[2, 4, 6, 8, 10, 12, 14, 16, 18]\n"
     ]
    }
   ],
   "source": [
    "#Given list\n",
    "a = [2, 4, 6, 8, 10]\n",
    "\n",
    "# 1\n",
    "a += [12, 14, 16, 18]\n",
    "print(a)"
   ]
  },
  {
   "cell_type": "code",
   "execution_count": 5,
   "id": "154cc825",
   "metadata": {},
   "outputs": [
    {
     "name": "stdout",
     "output_type": "stream",
     "text": [
      "[-18, -16, -14, -12, -10, -8, -6, -4, -2, 0]\n"
     ]
    }
   ],
   "source": [
    "# 2\n",
    "a[:] = [-i for i in a][::-1] + [0]\n",
    "print(a)"
   ]
  },
  {
   "cell_type": "code",
   "execution_count": 6,
   "id": "e0f001d4",
   "metadata": {},
   "outputs": [
    {
     "name": "stdout",
     "output_type": "stream",
     "text": [
      "[2, 3, 4, 5, 6, 7, 8, 10]\n"
     ]
    }
   ],
   "source": [
    "# 3 \n",
    "a[:] = [2, 3, 4, 5, 6, 7, 8, 10]\n",
    "print(a)"
   ]
  },
  {
   "cell_type": "code",
   "execution_count": 7,
   "id": "59501760",
   "metadata": {},
   "outputs": [
    {
     "name": "stdout",
     "output_type": "stream",
     "text": [
      "[2, 3, 4, 'a', 'b', 'c', 5, 6, 7, 8, 10]\n"
     ]
    }
   ],
   "source": [
    "# 4\n",
    "a[3:3] = ['a', 'b', 'c']\n",
    "print(a)"
   ]
  },
  {
   "cell_type": "code",
   "execution_count": 8,
   "id": "92f13a53",
   "metadata": {},
   "outputs": [
    {
     "name": "stdout",
     "output_type": "stream",
     "text": [
      "[2, 3, 4, 'a', 'b', 'c', 5, 6, 7, 8, 10]\n"
     ]
    }
   ],
   "source": [
    "# 5\n",
    "a = a\n",
    "print(a)"
   ]
  },
  {
   "cell_type": "code",
   "execution_count": 9,
   "id": "7605e883",
   "metadata": {},
   "outputs": [
    {
     "name": "stdout",
     "output_type": "stream",
     "text": [
      "[]\n"
     ]
    }
   ],
   "source": [
    "# 6\n",
    "a[0:0] = []\n",
    "print(a[0:0])"
   ]
  },
  {
   "cell_type": "code",
   "execution_count": 10,
   "id": "ca5f0d07",
   "metadata": {},
   "outputs": [
    {
     "name": "stdout",
     "output_type": "stream",
     "text": [
      "[10, 8, 7, 6, 5, 'c', 'b', 'a', 4, 3, 2]\n"
     ]
    }
   ],
   "source": [
    "# 7\n",
    "print(a[::-1])"
   ]
  },
  {
   "cell_type": "code",
   "execution_count": 11,
   "id": "a70b3c9a",
   "metadata": {},
   "outputs": [
    {
     "name": "stdout",
     "output_type": "stream",
     "text": [
      "[2, 3, 4]\n"
     ]
    }
   ],
   "source": [
    "# 8\n",
    "print(a[0:3])"
   ]
  },
  {
   "cell_type": "code",
   "execution_count": 12,
   "id": "3e8bdb8e",
   "metadata": {},
   "outputs": [
    {
     "name": "stdout",
     "output_type": "stream",
     "text": [
      "[4, 'a', 'b', 'c', 5, 6, 7, 8, 10]\n"
     ]
    }
   ],
   "source": [
    "# 9\n",
    "print(a[2:])"
   ]
  },
  {
   "cell_type": "code",
   "execution_count": 13,
   "id": "ec64fec8",
   "metadata": {},
   "outputs": [
    {
     "name": "stdout",
     "output_type": "stream",
     "text": [
      "[2, 'b', 'c', 5, 6, 7, 8, 10]\n"
     ]
    }
   ],
   "source": [
    "# 10 \n",
    "a[1:4] = []\n",
    "print(a)"
   ]
  },
  {
   "cell_type": "code",
   "execution_count": 14,
   "id": "1ff98bcd",
   "metadata": {},
   "outputs": [
    {
     "name": "stdout",
     "output_type": "stream",
     "text": [
      "['b', 'c', 5]\n"
     ]
    }
   ],
   "source": [
    "# 11\n",
    "print(a[1:4])"
   ]
  },
  {
   "cell_type": "code",
   "execution_count": 15,
   "id": "13941c37",
   "metadata": {},
   "outputs": [
    {
     "name": "stdout",
     "output_type": "stream",
     "text": [
      "[2, 'b', 'c', 5, 6, 7, 8, 'b', 'c', 5, 6, 7, 8, 10, 12, 14, 16, 18, 20]\n"
     ]
    }
   ],
   "source": [
    "# 12\n",
    "a[-1:] = a[1:] + [12, 14, 16, 18, 20]\n",
    "print(a)"
   ]
  },
  {
   "cell_type": "code",
   "execution_count": null,
   "id": "645324e2",
   "metadata": {},
   "outputs": [],
   "source": []
  }
 ],
 "metadata": {
  "kernelspec": {
   "display_name": "Python 3 (ipykernel)",
   "language": "python",
   "name": "python3"
  },
  "language_info": {
   "codemirror_mode": {
    "name": "ipython",
    "version": 3
   },
   "file_extension": ".py",
   "mimetype": "text/x-python",
   "name": "python",
   "nbconvert_exporter": "python",
   "pygments_lexer": "ipython3",
   "version": "3.9.13"
  }
 },
 "nbformat": 4,
 "nbformat_minor": 5
}
